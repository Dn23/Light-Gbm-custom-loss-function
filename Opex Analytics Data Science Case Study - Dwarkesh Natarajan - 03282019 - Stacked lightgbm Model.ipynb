{
 "cells": [
  {
   "cell_type": "code",
   "execution_count": 1,
   "metadata": {
    "collapsed": true
   },
   "outputs": [],
   "source": [
    "import pandas as pd\n",
    "import numpy as np\n",
    "import seaborn as sns\n",
    "import matplotlib.pyplot as plt\n",
    "%matplotlib inline"
   ]
  },
  {
   "cell_type": "code",
   "execution_count": 2,
   "metadata": {
    "collapsed": true
   },
   "outputs": [],
   "source": [
    "xls      = pd.ExcelFile('CaseStudy.xlsx')\n",
    "df_tdf   = pd.read_excel(xls,'Tiera Del Fuego data')\n",
    "df_pazzo = pd.read_excel(xls,\"Pazzo's data\")"
   ]
  },
  {
   "cell_type": "code",
   "execution_count": 3,
   "metadata": {},
   "outputs": [
    {
     "data": {
      "text/html": [
       "<div>\n",
       "<style>\n",
       "    .dataframe thead tr:only-child th {\n",
       "        text-align: right;\n",
       "    }\n",
       "\n",
       "    .dataframe thead th {\n",
       "        text-align: left;\n",
       "    }\n",
       "\n",
       "    .dataframe tbody tr th {\n",
       "        vertical-align: top;\n",
       "    }\n",
       "</style>\n",
       "<table border=\"1\" class=\"dataframe\">\n",
       "  <thead>\n",
       "    <tr style=\"text-align: right;\">\n",
       "      <th></th>\n",
       "      <th>DC</th>\n",
       "      <th>Date</th>\n",
       "      <th>SKU</th>\n",
       "      <th>Purchase Order Units</th>\n",
       "      <th>Fulfilled Units</th>\n",
       "    </tr>\n",
       "  </thead>\n",
       "  <tbody>\n",
       "    <tr>\n",
       "      <th>0</th>\n",
       "      <td>DC East</td>\n",
       "      <td>2017-10-02</td>\n",
       "      <td>SKU001</td>\n",
       "      <td>10</td>\n",
       "      <td>10</td>\n",
       "    </tr>\n",
       "    <tr>\n",
       "      <th>1</th>\n",
       "      <td>DC East</td>\n",
       "      <td>2017-10-09</td>\n",
       "      <td>SKU001</td>\n",
       "      <td>24</td>\n",
       "      <td>24</td>\n",
       "    </tr>\n",
       "    <tr>\n",
       "      <th>2</th>\n",
       "      <td>DC East</td>\n",
       "      <td>2017-10-16</td>\n",
       "      <td>SKU001</td>\n",
       "      <td>0</td>\n",
       "      <td>0</td>\n",
       "    </tr>\n",
       "    <tr>\n",
       "      <th>3</th>\n",
       "      <td>DC East</td>\n",
       "      <td>2017-10-23</td>\n",
       "      <td>SKU001</td>\n",
       "      <td>0</td>\n",
       "      <td>0</td>\n",
       "    </tr>\n",
       "    <tr>\n",
       "      <th>4</th>\n",
       "      <td>DC East</td>\n",
       "      <td>2017-10-30</td>\n",
       "      <td>SKU001</td>\n",
       "      <td>3</td>\n",
       "      <td>3</td>\n",
       "    </tr>\n",
       "  </tbody>\n",
       "</table>\n",
       "</div>"
      ],
      "text/plain": [
       "        DC       Date     SKU  Purchase Order Units  Fulfilled Units\n",
       "0  DC East 2017-10-02  SKU001                    10               10\n",
       "1  DC East 2017-10-09  SKU001                    24               24\n",
       "2  DC East 2017-10-16  SKU001                     0                0\n",
       "3  DC East 2017-10-23  SKU001                     0                0\n",
       "4  DC East 2017-10-30  SKU001                     3                3"
      ]
     },
     "execution_count": 3,
     "metadata": {},
     "output_type": "execute_result"
    }
   ],
   "source": [
    "df_tdf.head()"
   ]
  },
  {
   "cell_type": "code",
   "execution_count": 4,
   "metadata": {
    "collapsed": true
   },
   "outputs": [],
   "source": [
    "df_tdf['cut'] = df_tdf['Purchase Order Units'] - df_tdf['Fulfilled Units']\n",
    "\n",
    "for i in [1]:\n",
    "    df_tdf['cut_lag_'+str(i)] = df_tdf.groupby(['SKU','DC'])['cut'].shift(i)\n",
    "\n",
    "\n",
    "df_tdf = df_tdf.fillna(0)\n",
    "\n",
    "\n"
   ]
  },
  {
   "cell_type": "code",
   "execution_count": 5,
   "metadata": {},
   "outputs": [
    {
     "data": {
      "text/html": [
       "<div>\n",
       "<style>\n",
       "    .dataframe thead tr:only-child th {\n",
       "        text-align: right;\n",
       "    }\n",
       "\n",
       "    .dataframe thead th {\n",
       "        text-align: left;\n",
       "    }\n",
       "\n",
       "    .dataframe tbody tr th {\n",
       "        vertical-align: top;\n",
       "    }\n",
       "</style>\n",
       "<table border=\"1\" class=\"dataframe\">\n",
       "  <thead>\n",
       "    <tr style=\"text-align: right;\">\n",
       "      <th></th>\n",
       "      <th>DC</th>\n",
       "      <th>Date</th>\n",
       "      <th>SKU</th>\n",
       "      <th>Purchase Order Units</th>\n",
       "      <th>Fulfilled Units</th>\n",
       "      <th>cut</th>\n",
       "      <th>cut_lag_1</th>\n",
       "    </tr>\n",
       "  </thead>\n",
       "  <tbody>\n",
       "    <tr>\n",
       "      <th>0</th>\n",
       "      <td>DC East</td>\n",
       "      <td>2017-10-02</td>\n",
       "      <td>SKU001</td>\n",
       "      <td>10</td>\n",
       "      <td>10</td>\n",
       "      <td>0</td>\n",
       "      <td>0.0</td>\n",
       "    </tr>\n",
       "    <tr>\n",
       "      <th>1</th>\n",
       "      <td>DC East</td>\n",
       "      <td>2017-10-09</td>\n",
       "      <td>SKU001</td>\n",
       "      <td>24</td>\n",
       "      <td>24</td>\n",
       "      <td>0</td>\n",
       "      <td>0.0</td>\n",
       "    </tr>\n",
       "    <tr>\n",
       "      <th>2</th>\n",
       "      <td>DC East</td>\n",
       "      <td>2017-10-16</td>\n",
       "      <td>SKU001</td>\n",
       "      <td>0</td>\n",
       "      <td>0</td>\n",
       "      <td>0</td>\n",
       "      <td>0.0</td>\n",
       "    </tr>\n",
       "    <tr>\n",
       "      <th>3</th>\n",
       "      <td>DC East</td>\n",
       "      <td>2017-10-23</td>\n",
       "      <td>SKU001</td>\n",
       "      <td>0</td>\n",
       "      <td>0</td>\n",
       "      <td>0</td>\n",
       "      <td>0.0</td>\n",
       "    </tr>\n",
       "    <tr>\n",
       "      <th>4</th>\n",
       "      <td>DC East</td>\n",
       "      <td>2017-10-30</td>\n",
       "      <td>SKU001</td>\n",
       "      <td>3</td>\n",
       "      <td>3</td>\n",
       "      <td>0</td>\n",
       "      <td>0.0</td>\n",
       "    </tr>\n",
       "  </tbody>\n",
       "</table>\n",
       "</div>"
      ],
      "text/plain": [
       "        DC       Date     SKU  Purchase Order Units  Fulfilled Units  cut  \\\n",
       "0  DC East 2017-10-02  SKU001                    10               10    0   \n",
       "1  DC East 2017-10-09  SKU001                    24               24    0   \n",
       "2  DC East 2017-10-16  SKU001                     0                0    0   \n",
       "3  DC East 2017-10-23  SKU001                     0                0    0   \n",
       "4  DC East 2017-10-30  SKU001                     3                3    0   \n",
       "\n",
       "   cut_lag_1  \n",
       "0        0.0  \n",
       "1        0.0  \n",
       "2        0.0  \n",
       "3        0.0  \n",
       "4        0.0  "
      ]
     },
     "execution_count": 5,
     "metadata": {},
     "output_type": "execute_result"
    }
   ],
   "source": [
    "df_tdf.head()"
   ]
  },
  {
   "cell_type": "code",
   "execution_count": 6,
   "metadata": {},
   "outputs": [
    {
     "data": {
      "text/html": [
       "<div>\n",
       "<style>\n",
       "    .dataframe thead tr:only-child th {\n",
       "        text-align: right;\n",
       "    }\n",
       "\n",
       "    .dataframe thead th {\n",
       "        text-align: left;\n",
       "    }\n",
       "\n",
       "    .dataframe tbody tr th {\n",
       "        vertical-align: top;\n",
       "    }\n",
       "</style>\n",
       "<table border=\"1\" class=\"dataframe\">\n",
       "  <thead>\n",
       "    <tr style=\"text-align: right;\">\n",
       "      <th></th>\n",
       "      <th>SKU</th>\n",
       "      <th>Date</th>\n",
       "      <th>On Hand Inventory</th>\n",
       "      <th>Pageview Out of Stock</th>\n",
       "      <th>Average Price</th>\n",
       "      <th>Change in Pageviews</th>\n",
       "      <th>Consumer Ordered Units</th>\n",
       "      <th>Forecast 1 Week</th>\n",
       "      <th>Forecast 4 Week</th>\n",
       "      <th>Forecast 8 Week</th>\n",
       "    </tr>\n",
       "  </thead>\n",
       "  <tbody>\n",
       "    <tr>\n",
       "      <th>0</th>\n",
       "      <td>SKU001</td>\n",
       "      <td>2017-10-02</td>\n",
       "      <td>519</td>\n",
       "      <td>0.020876</td>\n",
       "      <td>17.913664</td>\n",
       "      <td>0.076624</td>\n",
       "      <td>67</td>\n",
       "      <td>52</td>\n",
       "      <td>47</td>\n",
       "      <td>41</td>\n",
       "    </tr>\n",
       "    <tr>\n",
       "      <th>1</th>\n",
       "      <td>SKU001</td>\n",
       "      <td>2017-10-09</td>\n",
       "      <td>241</td>\n",
       "      <td>0.595398</td>\n",
       "      <td>13.520821</td>\n",
       "      <td>0.171255</td>\n",
       "      <td>49</td>\n",
       "      <td>45</td>\n",
       "      <td>42</td>\n",
       "      <td>36</td>\n",
       "    </tr>\n",
       "    <tr>\n",
       "      <th>2</th>\n",
       "      <td>SKU001</td>\n",
       "      <td>2017-10-16</td>\n",
       "      <td>559</td>\n",
       "      <td>0.000000</td>\n",
       "      <td>15.839939</td>\n",
       "      <td>0.088271</td>\n",
       "      <td>95</td>\n",
       "      <td>94</td>\n",
       "      <td>89</td>\n",
       "      <td>84</td>\n",
       "    </tr>\n",
       "    <tr>\n",
       "      <th>3</th>\n",
       "      <td>SKU001</td>\n",
       "      <td>2017-10-23</td>\n",
       "      <td>424</td>\n",
       "      <td>0.000000</td>\n",
       "      <td>13.128688</td>\n",
       "      <td>0.141562</td>\n",
       "      <td>79</td>\n",
       "      <td>80</td>\n",
       "      <td>79</td>\n",
       "      <td>71</td>\n",
       "    </tr>\n",
       "    <tr>\n",
       "      <th>4</th>\n",
       "      <td>SKU001</td>\n",
       "      <td>2017-10-30</td>\n",
       "      <td>488</td>\n",
       "      <td>0.041484</td>\n",
       "      <td>16.277441</td>\n",
       "      <td>-0.164290</td>\n",
       "      <td>49</td>\n",
       "      <td>81</td>\n",
       "      <td>76</td>\n",
       "      <td>78</td>\n",
       "    </tr>\n",
       "  </tbody>\n",
       "</table>\n",
       "</div>"
      ],
      "text/plain": [
       "      SKU       Date  On Hand Inventory  Pageview Out of Stock  Average Price  \\\n",
       "0  SKU001 2017-10-02                519               0.020876      17.913664   \n",
       "1  SKU001 2017-10-09                241               0.595398      13.520821   \n",
       "2  SKU001 2017-10-16                559               0.000000      15.839939   \n",
       "3  SKU001 2017-10-23                424               0.000000      13.128688   \n",
       "4  SKU001 2017-10-30                488               0.041484      16.277441   \n",
       "\n",
       "   Change in Pageviews  Consumer Ordered Units  Forecast 1 Week  \\\n",
       "0             0.076624                      67               52   \n",
       "1             0.171255                      49               45   \n",
       "2             0.088271                      95               94   \n",
       "3             0.141562                      79               80   \n",
       "4            -0.164290                      49               81   \n",
       "\n",
       "   Forecast 4 Week  Forecast 8 Week  \n",
       "0               47               41  \n",
       "1               42               36  \n",
       "2               89               84  \n",
       "3               79               71  \n",
       "4               76               78  "
      ]
     },
     "execution_count": 6,
     "metadata": {},
     "output_type": "execute_result"
    }
   ],
   "source": [
    "df_pazzo.head()"
   ]
  },
  {
   "cell_type": "code",
   "execution_count": 7,
   "metadata": {},
   "outputs": [
    {
     "data": {
      "text/html": [
       "<div>\n",
       "<style>\n",
       "    .dataframe thead tr:only-child th {\n",
       "        text-align: right;\n",
       "    }\n",
       "\n",
       "    .dataframe thead th {\n",
       "        text-align: left;\n",
       "    }\n",
       "\n",
       "    .dataframe tbody tr th {\n",
       "        vertical-align: top;\n",
       "    }\n",
       "</style>\n",
       "<table border=\"1\" class=\"dataframe\">\n",
       "  <thead>\n",
       "    <tr style=\"text-align: right;\">\n",
       "      <th></th>\n",
       "      <th>DC</th>\n",
       "      <th>Date</th>\n",
       "      <th>SKU</th>\n",
       "      <th>Purchase Order Units</th>\n",
       "      <th>Fulfilled Units</th>\n",
       "      <th>cut</th>\n",
       "      <th>cut_lag_1</th>\n",
       "      <th>On Hand Inventory</th>\n",
       "      <th>Pageview Out of Stock</th>\n",
       "      <th>Average Price</th>\n",
       "      <th>Change in Pageviews</th>\n",
       "      <th>Consumer Ordered Units</th>\n",
       "      <th>Forecast 1 Week</th>\n",
       "      <th>Forecast 4 Week</th>\n",
       "      <th>Forecast 8 Week</th>\n",
       "    </tr>\n",
       "  </thead>\n",
       "  <tbody>\n",
       "    <tr>\n",
       "      <th>0</th>\n",
       "      <td>DC East</td>\n",
       "      <td>2017-10-02</td>\n",
       "      <td>SKU001</td>\n",
       "      <td>10</td>\n",
       "      <td>10</td>\n",
       "      <td>0</td>\n",
       "      <td>0.0</td>\n",
       "      <td>519</td>\n",
       "      <td>0.020876</td>\n",
       "      <td>17.913664</td>\n",
       "      <td>0.076624</td>\n",
       "      <td>67</td>\n",
       "      <td>52</td>\n",
       "      <td>47</td>\n",
       "      <td>41</td>\n",
       "    </tr>\n",
       "    <tr>\n",
       "      <th>1</th>\n",
       "      <td>DC East</td>\n",
       "      <td>2017-10-09</td>\n",
       "      <td>SKU001</td>\n",
       "      <td>24</td>\n",
       "      <td>24</td>\n",
       "      <td>0</td>\n",
       "      <td>0.0</td>\n",
       "      <td>241</td>\n",
       "      <td>0.595398</td>\n",
       "      <td>13.520821</td>\n",
       "      <td>0.171255</td>\n",
       "      <td>49</td>\n",
       "      <td>45</td>\n",
       "      <td>42</td>\n",
       "      <td>36</td>\n",
       "    </tr>\n",
       "    <tr>\n",
       "      <th>2</th>\n",
       "      <td>DC East</td>\n",
       "      <td>2017-10-16</td>\n",
       "      <td>SKU001</td>\n",
       "      <td>0</td>\n",
       "      <td>0</td>\n",
       "      <td>0</td>\n",
       "      <td>0.0</td>\n",
       "      <td>559</td>\n",
       "      <td>0.000000</td>\n",
       "      <td>15.839939</td>\n",
       "      <td>0.088271</td>\n",
       "      <td>95</td>\n",
       "      <td>94</td>\n",
       "      <td>89</td>\n",
       "      <td>84</td>\n",
       "    </tr>\n",
       "    <tr>\n",
       "      <th>3</th>\n",
       "      <td>DC East</td>\n",
       "      <td>2017-10-23</td>\n",
       "      <td>SKU001</td>\n",
       "      <td>0</td>\n",
       "      <td>0</td>\n",
       "      <td>0</td>\n",
       "      <td>0.0</td>\n",
       "      <td>424</td>\n",
       "      <td>0.000000</td>\n",
       "      <td>13.128688</td>\n",
       "      <td>0.141562</td>\n",
       "      <td>79</td>\n",
       "      <td>80</td>\n",
       "      <td>79</td>\n",
       "      <td>71</td>\n",
       "    </tr>\n",
       "    <tr>\n",
       "      <th>4</th>\n",
       "      <td>DC East</td>\n",
       "      <td>2017-10-30</td>\n",
       "      <td>SKU001</td>\n",
       "      <td>3</td>\n",
       "      <td>3</td>\n",
       "      <td>0</td>\n",
       "      <td>0.0</td>\n",
       "      <td>488</td>\n",
       "      <td>0.041484</td>\n",
       "      <td>16.277441</td>\n",
       "      <td>-0.164290</td>\n",
       "      <td>49</td>\n",
       "      <td>81</td>\n",
       "      <td>76</td>\n",
       "      <td>78</td>\n",
       "    </tr>\n",
       "  </tbody>\n",
       "</table>\n",
       "</div>"
      ],
      "text/plain": [
       "        DC       Date     SKU  Purchase Order Units  Fulfilled Units  cut  \\\n",
       "0  DC East 2017-10-02  SKU001                    10               10    0   \n",
       "1  DC East 2017-10-09  SKU001                    24               24    0   \n",
       "2  DC East 2017-10-16  SKU001                     0                0    0   \n",
       "3  DC East 2017-10-23  SKU001                     0                0    0   \n",
       "4  DC East 2017-10-30  SKU001                     3                3    0   \n",
       "\n",
       "   cut_lag_1  On Hand Inventory  Pageview Out of Stock  Average Price  \\\n",
       "0        0.0                519               0.020876      17.913664   \n",
       "1        0.0                241               0.595398      13.520821   \n",
       "2        0.0                559               0.000000      15.839939   \n",
       "3        0.0                424               0.000000      13.128688   \n",
       "4        0.0                488               0.041484      16.277441   \n",
       "\n",
       "   Change in Pageviews  Consumer Ordered Units  Forecast 1 Week  \\\n",
       "0             0.076624                      67               52   \n",
       "1             0.171255                      49               45   \n",
       "2             0.088271                      95               94   \n",
       "3             0.141562                      79               80   \n",
       "4            -0.164290                      49               81   \n",
       "\n",
       "   Forecast 4 Week  Forecast 8 Week  \n",
       "0               47               41  \n",
       "1               42               36  \n",
       "2               89               84  \n",
       "3               79               71  \n",
       "4               76               78  "
      ]
     },
     "execution_count": 7,
     "metadata": {},
     "output_type": "execute_result"
    }
   ],
   "source": [
    "df_tdf = pd.merge(df_tdf,df_pazzo,on = ['SKU','Date'],how = 'left') #joining pazzo data to tdf on SKU and date level\n",
    "df_tdf.head()"
   ]
  },
  {
   "cell_type": "code",
   "execution_count": 8,
   "metadata": {
    "collapsed": true
   },
   "outputs": [],
   "source": [
    "#df_tdf = df_tdf.drop(df_tdf[df_tdf['SKU'].isin(['SKU033'])].index)"
   ]
  },
  {
   "cell_type": "code",
   "execution_count": 9,
   "metadata": {
    "collapsed": true
   },
   "outputs": [],
   "source": [
    "#feature engineering\n",
    "# lag2 features for the aggregated columns in pazzo data\n",
    "for i in [2] :\n",
    "    df_tdf['pageviewlag'+'_'+str(i)]            = df_tdf.groupby(['SKU','DC'])['Pageview Out of Stock'].shift(i)\n",
    "    df_tdf['AveragePricelag'+'_'+str(i)]        = df_tdf.groupby(['SKU','DC'])['Average Price'].shift(i)\n",
    "    df_tdf['Change in Pageviewslag'+'_'+str(i)] = df_tdf.groupby(['SKU','DC'])['Change in Pageviews'].shift(i)\n",
    "    df_tdf['Consumer Ordered Unitslag'+'_'+str(i)] = df_tdf.groupby(['SKU','DC'])['Consumer Ordered Units'].shift(i)\n",
    "# lag1 and lag2 features for non aggregated columns in the tdf and pazzo data like on hand inventory and Purchase Order Units\n",
    "for i in [1,2] :\n",
    "    df_tdf['Purchase Order Unitslag'+'_'+str(i)]   = df_tdf.groupby(['SKU','DC'])['Purchase Order Units'].shift(i)\n",
    "    df_tdf['On Hand Inventorylag'+'_'+str(i)]      = df_tdf.groupby(['SKU','DC'])['On Hand Inventory'].shift(i)\n",
    "    \n",
    "# Difference for Purchase Order Units and On hand inventory    \n",
    "\n",
    "df_tdf['Purchase Order Unitsdiff']           = df_tdf.groupby(['SKU','DC'])['Purchase Order Unitslag_1'].diff()\n",
    "\n",
    "df_tdf['Purchase Order Unitsdiff2']           = df_tdf.groupby(['SKU','DC'])['Purchase Order Unitslag_1'].diff(2)\n",
    "\n",
    "df_tdf['On Hand Inventorydiff']              = df_tdf.groupby(['SKU','DC'])['On Hand Inventorylag_1'].diff()\n",
    "\n",
    "\n",
    "# exponentially smoothed rolling mean for different alphas\n",
    "for a in [0.1,0.7,0.9] :\n",
    "    df_tdf['ewm'+'_'+str(a)] = df_tdf.groupby(['SKU','DC'])['Purchase Order Unitslag_1'].transform(lambda x : x.ewm(alpha=a).mean().values).reset_index(drop=True)\n",
    "    \n",
    "    "
   ]
  },
  {
   "cell_type": "code",
   "execution_count": 10,
   "metadata": {
    "collapsed": true
   },
   "outputs": [],
   "source": [
    "#df_tdf['Change in Pageviewslag_2'] = np.where(df_tdf['Change in Pageviewslag_2'] < 0,0,1)"
   ]
  },
  {
   "cell_type": "code",
   "execution_count": 11,
   "metadata": {
    "collapsed": true
   },
   "outputs": [],
   "source": [
    "df_tdf['SKU_mean'] = df_tdf.groupby(['DC','SKU'])['Purchase Order Units'].transform('mean') # mean purchase order units at SKU DC level \n",
    "df_tdf['SKU_std']  = df_tdf.groupby(['DC','SKU'])['Purchase Order Units'].transform('std')  # std purchase order units at SKU DC level\n",
    "df_tdf['SKU_cov']  = df_tdf['SKU_std']/df_tdf['SKU_mean'] # cov purchase order units at SKU DC level\n",
    "\n",
    "#adding month features like monthly mean,std and cov at DC SKU level\n",
    "df_tdf['Month'] = df_tdf['Date'].dt.month\n",
    "\n",
    "df_tdf_month = df_tdf.groupby(['DC','SKU','Month'],as_index=False)['Purchase Order Units'].sum()\n",
    "\n",
    "df_tdf_month = df_tdf_month.groupby(['DC','SKU'],as_index = False).agg({'Purchase Order Units' : ['mean','std']})\n",
    "\n",
    "df_tdf_month.columns = ['_month'.join(i) for i in df_tdf_month.columns.values] #to get the dataframe in the form we want\n",
    "\n",
    "df_tdf_month = df_tdf_month.rename(columns = {'DC_month' : 'DC','SKU_month' : 'SKU'})\n",
    "\n",
    "df_tdf = pd.merge(df_tdf,df_tdf_month,on = ['SKU','DC'],how = 'left')\n",
    "\n",
    "df_tdf['Purchase Order Units_monthcov'] = df_tdf['Purchase Order Units_monthstd']/df_tdf['Purchase Order Units_monthmean']"
   ]
  },
  {
   "cell_type": "code",
   "execution_count": 12,
   "metadata": {
    "scrolled": true
   },
   "outputs": [
    {
     "name": "stdout",
     "output_type": "stream",
     "text": [
      "<class 'pandas.core.frame.DataFrame'>\n",
      "Int64Index: 5200 entries, 0 to 5199\n",
      "Data columns (total 36 columns):\n",
      "DC                                5200 non-null object\n",
      "Date                              5200 non-null datetime64[ns]\n",
      "SKU                               5200 non-null object\n",
      "Purchase Order Units              5200 non-null int64\n",
      "Fulfilled Units                   5200 non-null int64\n",
      "cut                               5200 non-null int64\n",
      "cut_lag_1                         5200 non-null float64\n",
      "On Hand Inventory                 5200 non-null int64\n",
      "Pageview Out of Stock             5200 non-null float64\n",
      "Average Price                     5200 non-null float64\n",
      "Change in Pageviews               5200 non-null float64\n",
      "Consumer Ordered Units            5200 non-null int64\n",
      "Forecast 1 Week                   5200 non-null int64\n",
      "Forecast 4 Week                   5200 non-null int64\n",
      "Forecast 8 Week                   5200 non-null int64\n",
      "pageviewlag_2                     5000 non-null float64\n",
      "AveragePricelag_2                 5000 non-null float64\n",
      "Change in Pageviewslag_2          5000 non-null float64\n",
      "Consumer Ordered Unitslag_2       5000 non-null float64\n",
      "Purchase Order Unitslag_1         5100 non-null float64\n",
      "On Hand Inventorylag_1            5100 non-null float64\n",
      "Purchase Order Unitslag_2         5000 non-null float64\n",
      "On Hand Inventorylag_2            5000 non-null float64\n",
      "Purchase Order Unitsdiff          5000 non-null float64\n",
      "Purchase Order Unitsdiff2         4900 non-null float64\n",
      "On Hand Inventorydiff             5000 non-null float64\n",
      "ewm_0.1                           5100 non-null float64\n",
      "ewm_0.7                           5100 non-null float64\n",
      "ewm_0.9                           5100 non-null float64\n",
      "SKU_mean                          5200 non-null float64\n",
      "SKU_std                           5200 non-null float64\n",
      "SKU_cov                           5200 non-null float64\n",
      "Month                             5200 non-null int64\n",
      "Purchase Order Units_monthmean    5200 non-null float64\n",
      "Purchase Order Units_monthstd     5200 non-null float64\n",
      "Purchase Order Units_monthcov     5200 non-null float64\n",
      "dtypes: datetime64[ns](1), float64(24), int64(9), object(2)\n",
      "memory usage: 1.5+ MB\n"
     ]
    }
   ],
   "source": [
    "df_tdf.info()"
   ]
  },
  {
   "cell_type": "code",
   "execution_count": 13,
   "metadata": {},
   "outputs": [
    {
     "data": {
      "text/html": [
       "<div>\n",
       "<style>\n",
       "    .dataframe thead tr:only-child th {\n",
       "        text-align: right;\n",
       "    }\n",
       "\n",
       "    .dataframe thead th {\n",
       "        text-align: left;\n",
       "    }\n",
       "\n",
       "    .dataframe tbody tr th {\n",
       "        vertical-align: top;\n",
       "    }\n",
       "</style>\n",
       "<table border=\"1\" class=\"dataframe\">\n",
       "  <thead>\n",
       "    <tr style=\"text-align: right;\">\n",
       "      <th></th>\n",
       "      <th>DC</th>\n",
       "      <th>Date</th>\n",
       "      <th>SKU</th>\n",
       "      <th>Purchase Order Units</th>\n",
       "      <th>Fulfilled Units</th>\n",
       "      <th>cut</th>\n",
       "      <th>cut_lag_1</th>\n",
       "      <th>On Hand Inventory</th>\n",
       "      <th>Pageview Out of Stock</th>\n",
       "      <th>Average Price</th>\n",
       "      <th>...</th>\n",
       "      <th>ewm_0.1</th>\n",
       "      <th>ewm_0.7</th>\n",
       "      <th>ewm_0.9</th>\n",
       "      <th>SKU_mean</th>\n",
       "      <th>SKU_std</th>\n",
       "      <th>SKU_cov</th>\n",
       "      <th>Month</th>\n",
       "      <th>Purchase Order Units_monthmean</th>\n",
       "      <th>Purchase Order Units_monthstd</th>\n",
       "      <th>Purchase Order Units_monthcov</th>\n",
       "    </tr>\n",
       "  </thead>\n",
       "  <tbody>\n",
       "    <tr>\n",
       "      <th>0</th>\n",
       "      <td>DC East</td>\n",
       "      <td>2017-10-02</td>\n",
       "      <td>SKU001</td>\n",
       "      <td>10</td>\n",
       "      <td>10</td>\n",
       "      <td>0</td>\n",
       "      <td>0.0</td>\n",
       "      <td>519</td>\n",
       "      <td>0.020876</td>\n",
       "      <td>17.913664</td>\n",
       "      <td>...</td>\n",
       "      <td>NaN</td>\n",
       "      <td>NaN</td>\n",
       "      <td>NaN</td>\n",
       "      <td>20.519231</td>\n",
       "      <td>25.334229</td>\n",
       "      <td>1.234658</td>\n",
       "      <td>10</td>\n",
       "      <td>88.916667</td>\n",
       "      <td>74.344968</td>\n",
       "      <td>0.83612</td>\n",
       "    </tr>\n",
       "    <tr>\n",
       "      <th>1</th>\n",
       "      <td>DC East</td>\n",
       "      <td>2017-10-09</td>\n",
       "      <td>SKU001</td>\n",
       "      <td>24</td>\n",
       "      <td>24</td>\n",
       "      <td>0</td>\n",
       "      <td>0.0</td>\n",
       "      <td>241</td>\n",
       "      <td>0.595398</td>\n",
       "      <td>13.520821</td>\n",
       "      <td>...</td>\n",
       "      <td>10.000000</td>\n",
       "      <td>10.000000</td>\n",
       "      <td>10.000000</td>\n",
       "      <td>20.519231</td>\n",
       "      <td>25.334229</td>\n",
       "      <td>1.234658</td>\n",
       "      <td>10</td>\n",
       "      <td>88.916667</td>\n",
       "      <td>74.344968</td>\n",
       "      <td>0.83612</td>\n",
       "    </tr>\n",
       "    <tr>\n",
       "      <th>2</th>\n",
       "      <td>DC East</td>\n",
       "      <td>2017-10-16</td>\n",
       "      <td>SKU001</td>\n",
       "      <td>0</td>\n",
       "      <td>0</td>\n",
       "      <td>0</td>\n",
       "      <td>0.0</td>\n",
       "      <td>559</td>\n",
       "      <td>0.000000</td>\n",
       "      <td>15.839939</td>\n",
       "      <td>...</td>\n",
       "      <td>17.368421</td>\n",
       "      <td>20.769231</td>\n",
       "      <td>22.727273</td>\n",
       "      <td>20.519231</td>\n",
       "      <td>25.334229</td>\n",
       "      <td>1.234658</td>\n",
       "      <td>10</td>\n",
       "      <td>88.916667</td>\n",
       "      <td>74.344968</td>\n",
       "      <td>0.83612</td>\n",
       "    </tr>\n",
       "    <tr>\n",
       "      <th>3</th>\n",
       "      <td>DC East</td>\n",
       "      <td>2017-10-23</td>\n",
       "      <td>SKU001</td>\n",
       "      <td>0</td>\n",
       "      <td>0</td>\n",
       "      <td>0</td>\n",
       "      <td>0.0</td>\n",
       "      <td>424</td>\n",
       "      <td>0.000000</td>\n",
       "      <td>13.128688</td>\n",
       "      <td>...</td>\n",
       "      <td>10.959410</td>\n",
       "      <td>5.827338</td>\n",
       "      <td>2.252252</td>\n",
       "      <td>20.519231</td>\n",
       "      <td>25.334229</td>\n",
       "      <td>1.234658</td>\n",
       "      <td>10</td>\n",
       "      <td>88.916667</td>\n",
       "      <td>74.344968</td>\n",
       "      <td>0.83612</td>\n",
       "    </tr>\n",
       "    <tr>\n",
       "      <th>4</th>\n",
       "      <td>DC East</td>\n",
       "      <td>2017-10-30</td>\n",
       "      <td>SKU001</td>\n",
       "      <td>3</td>\n",
       "      <td>3</td>\n",
       "      <td>0</td>\n",
       "      <td>0.0</td>\n",
       "      <td>488</td>\n",
       "      <td>0.041484</td>\n",
       "      <td>16.277441</td>\n",
       "      <td>...</td>\n",
       "      <td>7.772608</td>\n",
       "      <td>1.714891</td>\n",
       "      <td>0.225023</td>\n",
       "      <td>20.519231</td>\n",
       "      <td>25.334229</td>\n",
       "      <td>1.234658</td>\n",
       "      <td>10</td>\n",
       "      <td>88.916667</td>\n",
       "      <td>74.344968</td>\n",
       "      <td>0.83612</td>\n",
       "    </tr>\n",
       "  </tbody>\n",
       "</table>\n",
       "<p>5 rows × 36 columns</p>\n",
       "</div>"
      ],
      "text/plain": [
       "        DC       Date     SKU  Purchase Order Units  Fulfilled Units  cut  \\\n",
       "0  DC East 2017-10-02  SKU001                    10               10    0   \n",
       "1  DC East 2017-10-09  SKU001                    24               24    0   \n",
       "2  DC East 2017-10-16  SKU001                     0                0    0   \n",
       "3  DC East 2017-10-23  SKU001                     0                0    0   \n",
       "4  DC East 2017-10-30  SKU001                     3                3    0   \n",
       "\n",
       "   cut_lag_1  On Hand Inventory  Pageview Out of Stock  Average Price  \\\n",
       "0        0.0                519               0.020876      17.913664   \n",
       "1        0.0                241               0.595398      13.520821   \n",
       "2        0.0                559               0.000000      15.839939   \n",
       "3        0.0                424               0.000000      13.128688   \n",
       "4        0.0                488               0.041484      16.277441   \n",
       "\n",
       "               ...                  ewm_0.1    ewm_0.7    ewm_0.9   SKU_mean  \\\n",
       "0              ...                      NaN        NaN        NaN  20.519231   \n",
       "1              ...                10.000000  10.000000  10.000000  20.519231   \n",
       "2              ...                17.368421  20.769231  22.727273  20.519231   \n",
       "3              ...                10.959410   5.827338   2.252252  20.519231   \n",
       "4              ...                 7.772608   1.714891   0.225023  20.519231   \n",
       "\n",
       "     SKU_std   SKU_cov  Month  Purchase Order Units_monthmean  \\\n",
       "0  25.334229  1.234658     10                       88.916667   \n",
       "1  25.334229  1.234658     10                       88.916667   \n",
       "2  25.334229  1.234658     10                       88.916667   \n",
       "3  25.334229  1.234658     10                       88.916667   \n",
       "4  25.334229  1.234658     10                       88.916667   \n",
       "\n",
       "   Purchase Order Units_monthstd  Purchase Order Units_monthcov  \n",
       "0                      74.344968                        0.83612  \n",
       "1                      74.344968                        0.83612  \n",
       "2                      74.344968                        0.83612  \n",
       "3                      74.344968                        0.83612  \n",
       "4                      74.344968                        0.83612  \n",
       "\n",
       "[5 rows x 36 columns]"
      ]
     },
     "execution_count": 13,
     "metadata": {},
     "output_type": "execute_result"
    }
   ],
   "source": [
    "df_tdf.head()"
   ]
  },
  {
   "cell_type": "code",
   "execution_count": 14,
   "metadata": {
    "collapsed": true
   },
   "outputs": [],
   "source": [
    "df_tdf['Purchase Order Units_log'] = df_tdf['Purchase Order Units'].apply(np.log1p)"
   ]
  },
  {
   "cell_type": "code",
   "execution_count": 15,
   "metadata": {
    "collapsed": true
   },
   "outputs": [],
   "source": [
    "#train test splitting\n",
    "df_tdf_train =  df_tdf[df_tdf['Date'].isin(pd.date_range('2017-10-02','2018-05-20'))].reset_index(drop = True)\n",
    "df_tdf_test  =  df_tdf[df_tdf['Date'].isin(pd.date_range('2018-05-21','2018-09-24'))].reset_index(drop = True)\n",
    "\n",
    "#creating dummy variable for DC\n",
    "df_tdf_train = pd.concat([df_tdf_train,pd.get_dummies(df_tdf_train['DC'],drop_first = True)],axis = 1).drop(['DC'],axis = 1)\n",
    "df_tdf_test = pd.concat([df_tdf_test,pd.get_dummies(df_tdf_test['DC'],drop_first = True)],axis = 1).drop(['DC'],axis = 1)\n",
    "\n",
    "df_tdf_train = df_tdf_train.dropna()\n",
    "df_tdf_test = df_tdf_test.dropna()\n"
   ]
  },
  {
   "cell_type": "code",
   "execution_count": 16,
   "metadata": {},
   "outputs": [
    {
     "name": "stdout",
     "output_type": "stream",
     "text": [
      "<class 'pandas.core.frame.DataFrame'>\n",
      "Int64Index: 1900 entries, 0 to 1899\n",
      "Data columns (total 37 columns):\n",
      "Date                              1900 non-null datetime64[ns]\n",
      "SKU                               1900 non-null object\n",
      "Purchase Order Units              1900 non-null int64\n",
      "Fulfilled Units                   1900 non-null int64\n",
      "cut                               1900 non-null int64\n",
      "cut_lag_1                         1900 non-null float64\n",
      "On Hand Inventory                 1900 non-null int64\n",
      "Pageview Out of Stock             1900 non-null float64\n",
      "Average Price                     1900 non-null float64\n",
      "Change in Pageviews               1900 non-null float64\n",
      "Consumer Ordered Units            1900 non-null int64\n",
      "Forecast 1 Week                   1900 non-null int64\n",
      "Forecast 4 Week                   1900 non-null int64\n",
      "Forecast 8 Week                   1900 non-null int64\n",
      "pageviewlag_2                     1900 non-null float64\n",
      "AveragePricelag_2                 1900 non-null float64\n",
      "Change in Pageviewslag_2          1900 non-null float64\n",
      "Consumer Ordered Unitslag_2       1900 non-null float64\n",
      "Purchase Order Unitslag_1         1900 non-null float64\n",
      "On Hand Inventorylag_1            1900 non-null float64\n",
      "Purchase Order Unitslag_2         1900 non-null float64\n",
      "On Hand Inventorylag_2            1900 non-null float64\n",
      "Purchase Order Unitsdiff          1900 non-null float64\n",
      "Purchase Order Unitsdiff2         1900 non-null float64\n",
      "On Hand Inventorydiff             1900 non-null float64\n",
      "ewm_0.1                           1900 non-null float64\n",
      "ewm_0.7                           1900 non-null float64\n",
      "ewm_0.9                           1900 non-null float64\n",
      "SKU_mean                          1900 non-null float64\n",
      "SKU_std                           1900 non-null float64\n",
      "SKU_cov                           1900 non-null float64\n",
      "Month                             1900 non-null int64\n",
      "Purchase Order Units_monthmean    1900 non-null float64\n",
      "Purchase Order Units_monthstd     1900 non-null float64\n",
      "Purchase Order Units_monthcov     1900 non-null float64\n",
      "Purchase Order Units_log          1900 non-null float64\n",
      "DC West                           1900 non-null uint8\n",
      "dtypes: datetime64[ns](1), float64(25), int64(9), object(1), uint8(1)\n",
      "memory usage: 551.1+ KB\n"
     ]
    }
   ],
   "source": [
    "df_tdf_test.info()"
   ]
  },
  {
   "cell_type": "code",
   "execution_count": 17,
   "metadata": {
    "collapsed": true
   },
   "outputs": [],
   "source": [
    "#splitting into X and y\n",
    "X_train = df_tdf_train.drop(['Date','SKU','Purchase Order Units','Purchase Order Units_log','cut','Month','Fulfilled Units','Pageview Out of Stock','On Hand Inventory','Average Price','Change in Pageviews','Consumer Ordered Units','SKU_cov'],axis = 1)\n",
    "X_test  = df_tdf_test.drop(['Date','SKU','Purchase Order Units','Purchase Order Units_log','cut','Month','Fulfilled Units','Pageview Out of Stock','On Hand Inventory','Average Price','Change in Pageviews','Consumer Ordered Units','SKU_cov'],axis = 1)\n",
    "y_train = df_tdf_train['Purchase Order Units']\n",
    "y_test  = df_tdf_test['Purchase Order Units']\n",
    "\n"
   ]
  },
  {
   "cell_type": "code",
   "execution_count": 18,
   "metadata": {},
   "outputs": [
    {
     "name": "stdout",
     "output_type": "stream",
     "text": [
      "<class 'pandas.core.frame.DataFrame'>\n",
      "Int64Index: 3000 entries, 3 to 3299\n",
      "Data columns (total 24 columns):\n",
      "cut_lag_1                         3000 non-null float64\n",
      "Forecast 1 Week                   3000 non-null int64\n",
      "Forecast 4 Week                   3000 non-null int64\n",
      "Forecast 8 Week                   3000 non-null int64\n",
      "pageviewlag_2                     3000 non-null float64\n",
      "AveragePricelag_2                 3000 non-null float64\n",
      "Change in Pageviewslag_2          3000 non-null float64\n",
      "Consumer Ordered Unitslag_2       3000 non-null float64\n",
      "Purchase Order Unitslag_1         3000 non-null float64\n",
      "On Hand Inventorylag_1            3000 non-null float64\n",
      "Purchase Order Unitslag_2         3000 non-null float64\n",
      "On Hand Inventorylag_2            3000 non-null float64\n",
      "Purchase Order Unitsdiff          3000 non-null float64\n",
      "Purchase Order Unitsdiff2         3000 non-null float64\n",
      "On Hand Inventorydiff             3000 non-null float64\n",
      "ewm_0.1                           3000 non-null float64\n",
      "ewm_0.7                           3000 non-null float64\n",
      "ewm_0.9                           3000 non-null float64\n",
      "SKU_mean                          3000 non-null float64\n",
      "SKU_std                           3000 non-null float64\n",
      "Purchase Order Units_monthmean    3000 non-null float64\n",
      "Purchase Order Units_monthstd     3000 non-null float64\n",
      "Purchase Order Units_monthcov     3000 non-null float64\n",
      "DC West                           3000 non-null uint8\n",
      "dtypes: float64(20), int64(3), uint8(1)\n",
      "memory usage: 565.4 KB\n"
     ]
    }
   ],
   "source": [
    "X_train.info()"
   ]
  },
  {
   "cell_type": "code",
   "execution_count": 19,
   "metadata": {},
   "outputs": [
    {
     "data": {
      "text/plain": [
       "RandomForestRegressor(bootstrap=True, criterion='mse', max_depth=6,\n",
       "           max_features=0.8, max_leaf_nodes=None,\n",
       "           min_impurity_decrease=0.0, min_impurity_split=None,\n",
       "           min_samples_leaf=1, min_samples_split=2,\n",
       "           min_weight_fraction_leaf=0.0, n_estimators=100, n_jobs=1,\n",
       "           oob_score=False, random_state=42, verbose=0, warm_start=False)"
      ]
     },
     "execution_count": 19,
     "metadata": {},
     "output_type": "execute_result"
    }
   ],
   "source": [
    "from sklearn.ensemble import RandomForestRegressor\n",
    "clf = RandomForestRegressor(random_state = 42,max_features = 0.8,max_depth = 6 ,n_estimators = 100)\n",
    "clf.fit(X_train,y_train)"
   ]
  },
  {
   "cell_type": "code",
   "execution_count": 20,
   "metadata": {},
   "outputs": [
    {
     "data": {
      "text/plain": [
       "array([ 19.23985321,  19.23985321,  19.23985321, ..., 227.37283422,\n",
       "       224.52601571, 236.02120502])"
      ]
     },
     "execution_count": 20,
     "metadata": {},
     "output_type": "execute_result"
    }
   ],
   "source": [
    "clf.predict(X_test)"
   ]
  },
  {
   "cell_type": "code",
   "execution_count": 21,
   "metadata": {},
   "outputs": [
    {
     "data": {
      "text/plain": [
       "0.559507548077939"
      ]
     },
     "execution_count": 21,
     "metadata": {},
     "output_type": "execute_result"
    }
   ],
   "source": [
    "clf.score(X_test,y_test)"
   ]
  },
  {
   "cell_type": "code",
   "execution_count": 22,
   "metadata": {},
   "outputs": [
    {
     "data": {
      "text/plain": [
       "0.8103583494181912"
      ]
     },
     "execution_count": 22,
     "metadata": {},
     "output_type": "execute_result"
    }
   ],
   "source": [
    "clf.score(X_train,y_train)"
   ]
  },
  {
   "cell_type": "code",
   "execution_count": 23,
   "metadata": {
    "collapsed": true
   },
   "outputs": [],
   "source": [
    "df_tdf_test['rf']  = clf.predict(X_test)  #adding predictions to test data\n",
    "df_tdf_train['rf'] = clf.predict(X_train) #adding predictions to train data"
   ]
  },
  {
   "cell_type": "code",
   "execution_count": 24,
   "metadata": {},
   "outputs": [
    {
     "data": {
      "text/plain": [
       "Lasso(alpha=0.5, copy_X=True, fit_intercept=True, max_iter=100000,\n",
       "   normalize=False, positive=False, precompute=False, random_state=None,\n",
       "   selection='cyclic', tol=0.0001, warm_start=False)"
      ]
     },
     "execution_count": 24,
     "metadata": {},
     "output_type": "execute_result"
    }
   ],
   "source": [
    "#lasso\n",
    "from sklearn.linear_model import Lasso\n",
    "from sklearn.preprocessing import MinMaxScaler,StandardScaler,Normalizer,RobustScaler\n",
    "sc = MinMaxScaler()\n",
    "X_train_sc = sc.fit_transform(X_train)\n",
    "X_test_sc = sc.transform(X_test)\n",
    "from sklearn.linear_model import Lasso\n",
    "lm = Lasso(alpha = 0.5, max_iter =100000)\n",
    "lm.fit(X_train_sc,y_train)"
   ]
  },
  {
   "cell_type": "code",
   "execution_count": 25,
   "metadata": {
    "collapsed": true
   },
   "outputs": [],
   "source": [
    "df_tdf_test['lm']  = lm.predict(X_test_sc) \n",
    "df_tdf_train['lm'] = lm.predict(X_train_sc)"
   ]
  },
  {
   "cell_type": "code",
   "execution_count": 26,
   "metadata": {},
   "outputs": [
    {
     "data": {
      "text/plain": [
       "KNeighborsRegressor(algorithm='auto', leaf_size=30, metric='minkowski',\n",
       "          metric_params=None, n_jobs=1, n_neighbors=14, p=2,\n",
       "          weights='uniform')"
      ]
     },
     "execution_count": 26,
     "metadata": {},
     "output_type": "execute_result"
    }
   ],
   "source": [
    "#knn\n",
    "X_train = X_train[['cut_lag_1', 'Purchase Order Unitsdiff', 'Forecast 4 Week',\n",
    "       'Forecast 1 Week', 'SKU_mean', 'Purchase Order Units_monthmean',\n",
    "       'AveragePricelag_2', 'ewm_0.1', 'Forecast 8 Week',\n",
    "       'Purchase Order Units_monthstd']]\n",
    "X_test = X_test[['cut_lag_1', 'Purchase Order Unitsdiff', 'Forecast 4 Week',\n",
    "       'Forecast 1 Week', 'SKU_mean', 'Purchase Order Units_monthmean',\n",
    "       'AveragePricelag_2', 'ewm_0.1', 'Forecast 8 Week',\n",
    "       'Purchase Order Units_monthstd']]\n",
    "from sklearn.preprocessing import MinMaxScaler,StandardScaler,Normalizer,RobustScaler\n",
    "sc = StandardScaler()\n",
    "X_train_sc = sc.fit_transform(X_train)\n",
    "X_test_sc = sc.transform(X_test)\n",
    "from sklearn.neighbors import KNeighborsRegressor\n",
    "knn = KNeighborsRegressor(n_neighbors = 14)\n",
    "knn.fit(X_train_sc,y_train)"
   ]
  },
  {
   "cell_type": "code",
   "execution_count": 27,
   "metadata": {
    "collapsed": true
   },
   "outputs": [],
   "source": [
    "df_tdf_test['knn']  = knn.predict(X_test_sc)\n",
    "df_tdf_train['knn'] = knn.predict(X_train_sc)"
   ]
  },
  {
   "cell_type": "code",
   "execution_count": 28,
   "metadata": {
    "collapsed": true
   },
   "outputs": [],
   "source": [
    "#lightgbm ensemble\n",
    "#only using the above predictions as features\n",
    "X_train = df_tdf_train[['rf','lm','knn']]\n",
    "X_test = df_tdf_test[['rf','lm','knn']]\n"
   ]
  },
  {
   "cell_type": "code",
   "execution_count": 29,
   "metadata": {
    "collapsed": true
   },
   "outputs": [],
   "source": [
    "# custom loss function for lightgbm model\n",
    "def custom_objective(y_true, y_hat):\n",
    "    y_pred = y_hat\n",
    "    y_true = y_true\n",
    "    residual = (y_true-y_pred).astype(\"float\")\n",
    "    grad = np.where(residual > 0, -2.0*1.5*residual, -2.0*residual) # giving more weight to an under prediction\n",
    "    hess = np.where(residual > 0, 2.0*1.5,2.0)\n",
    "    return grad, hess\n",
    "\n",
    "def custom_eval(y_true, y_hat):\n",
    "    y_pred = y_hat\n",
    "    y_true = y_true\n",
    "    residual = (y_true - y_pred).astype(\"float\")\n",
    "    loss = np.where(residual > 0, (residual**2)*1.5, residual**2) \n",
    "    return \"custom error\", np.mean(loss), False"
   ]
  },
  {
   "cell_type": "code",
   "execution_count": 30,
   "metadata": {
    "collapsed": true
   },
   "outputs": [],
   "source": [
    "import lightgbm as lgb"
   ]
  },
  {
   "cell_type": "code",
   "execution_count": 31,
   "metadata": {},
   "outputs": [
    {
     "data": {
      "text/plain": [
       "LGBMRegressor(boosting_type='gbdt', class_weight=None, colsample_bytree=1.0,\n",
       "       importance_type='split', learning_rate=0.01, max_depth=2,\n",
       "       metrics=['mse', 'mae'], min_child_samples=20,\n",
       "       min_child_weight=0.001, min_split_gain=0.0, n_estimators=800,\n",
       "       n_jobs=-1, num_leaves=10,\n",
       "       objective=<function custom_objective at 0x0000020B1CB98C80>,\n",
       "       random_state=42, reg_alpha=0.0, reg_lambda=0.0, silent=True,\n",
       "       subsample=1.0, subsample_for_bin=200000, subsample_freq=0)"
      ]
     },
     "execution_count": 31,
     "metadata": {},
     "output_type": "execute_result"
    }
   ],
   "source": [
    "\n",
    "#Light gbm model\n",
    "# almost similar features to scikit learn gradient boosting \n",
    "gbm = lgb.LGBMRegressor(random_state=42,\n",
    "                              n_estimators=800,\n",
    "                             max_depth = 2,\n",
    "                             learning_rate = 0.01,\n",
    "                             num_leaves =10,boosting_type = 'gbdt')\n",
    "\n",
    "gbm.set_params(**{'objective': custom_objective}, metrics = [\"mse\", 'mae'],)\n",
    "\n",
    "gbm.fit(\n",
    "    X_train,\n",
    "    y_train,\n",
    "    eval_set=[(X_test, y_test)],\n",
    "    eval_metric=custom_eval,\n",
    "    verbose=False,\n",
    ")"
   ]
  },
  {
   "cell_type": "code",
   "execution_count": 32,
   "metadata": {
    "collapsed": true
   },
   "outputs": [],
   "source": [
    "df_tdf_test['Prediction'] = gbm.predict(X_test)"
   ]
  },
  {
   "cell_type": "code",
   "execution_count": 33,
   "metadata": {},
   "outputs": [
    {
     "data": {
      "text/plain": [
       "0.5502969717849453"
      ]
     },
     "execution_count": 33,
     "metadata": {},
     "output_type": "execute_result"
    }
   ],
   "source": [
    "gbm.score(X_test,y_test)"
   ]
  },
  {
   "cell_type": "code",
   "execution_count": 34,
   "metadata": {},
   "outputs": [
    {
     "data": {
      "text/plain": [
       "0.835872467917456"
      ]
     },
     "execution_count": 34,
     "metadata": {},
     "output_type": "execute_result"
    }
   ],
   "source": [
    "gbm.score(X_train,y_train)"
   ]
  },
  {
   "cell_type": "code",
   "execution_count": 35,
   "metadata": {
    "collapsed": true
   },
   "outputs": [],
   "source": [
    "df_tdf_test['Prediction'] = np.where(df_tdf_test['Prediction'] > 0,df_tdf_test['Prediction'],0) #making negative predictions as 0"
   ]
  },
  {
   "cell_type": "code",
   "execution_count": 36,
   "metadata": {},
   "outputs": [
    {
     "data": {
      "text/plain": [
       "0.5502969717849453"
      ]
     },
     "execution_count": 36,
     "metadata": {},
     "output_type": "execute_result"
    }
   ],
   "source": [
    "from sklearn.metrics import r2_score\n",
    "r2_score(df_tdf_test['Purchase Order Units'].values,df_tdf_test['Prediction'].values)"
   ]
  },
  {
   "cell_type": "code",
   "execution_count": 37,
   "metadata": {
    "collapsed": true
   },
   "outputs": [],
   "source": [
    "# from sklearn.metrics import r2_score\n",
    "# r2_score(df_tdf_train['Purchase Order Units'].values,df_tdf_train['Prediction'].values)"
   ]
  },
  {
   "cell_type": "code",
   "execution_count": 38,
   "metadata": {
    "collapsed": true
   },
   "outputs": [],
   "source": [
    "df_tdf_test['cut']           = df_tdf_test['Purchase Order Units'] - df_tdf_test['Fulfilled Units']\n",
    "\n",
    "#calculating cuts due to prediction\n",
    "df_tdf_test['Predicted cut'] = np.where(df_tdf_test['Purchase Order Units'] - df_tdf_test['Prediction'] > 0,df_tdf_test['Purchase Order Units'] - df_tdf_test['Prediction'],0)"
   ]
  },
  {
   "cell_type": "code",
   "execution_count": 39,
   "metadata": {},
   "outputs": [
    {
     "data": {
      "text/plain": [
       "0.22164179480353086"
      ]
     },
     "execution_count": 39,
     "metadata": {},
     "output_type": "execute_result"
    }
   ],
   "source": [
    "#reduction in cut as a fraction, multiply by 100 for percentage\n",
    "(df_tdf_test['cut'].sum() - df_tdf_test['Predicted cut'].sum())/df_tdf_test['cut'].sum()"
   ]
  },
  {
   "cell_type": "code",
   "execution_count": 40,
   "metadata": {},
   "outputs": [
    {
     "data": {
      "text/plain": [
       "0.2941282474584012"
      ]
     },
     "execution_count": 40,
     "metadata": {},
     "output_type": "execute_result"
    }
   ],
   "source": [
    "#increase in inventory as a fraction, multiply by 100 for percentage\n",
    "(df_tdf_test['Prediction'].sum() - df_tdf_test['Purchase Order Units'].sum())/df_tdf_test['Purchase Order Units'].sum()"
   ]
  },
  {
   "cell_type": "code",
   "execution_count": 41,
   "metadata": {},
   "outputs": [
    {
     "data": {
      "text/plain": [
       "62840.749696536936"
      ]
     },
     "execution_count": 41,
     "metadata": {},
     "output_type": "execute_result"
    }
   ],
   "source": [
    "df_tdf_test['Predicted cut'].sum()"
   ]
  },
  {
   "cell_type": "code",
   "execution_count": 42,
   "metadata": {},
   "outputs": [
    {
     "data": {
      "text/plain": [
       "<matplotlib.axes._subplots.AxesSubplot at 0x20b1cce22b0>"
      ]
     },
     "execution_count": 42,
     "metadata": {},
     "output_type": "execute_result"
    },
    {
     "data": {
      "image/png": "[encoded data removed]",
      "text/plain": [
       "<matplotlib.figure.Figure at 0x20b1cb9d940>"
      ]
     },
     "metadata": {},
     "output_type": "display_data"
    }
   ],
   "source": [
    "df_tdf_test.plot(kind = 'scatter',x = 'Purchase Order Units',y='Prediction')"
   ]
  },
  {
   "cell_type": "code",
   "execution_count": 43,
   "metadata": {},
   "outputs": [
    {
     "data": {
      "text/plain": [
       "306823.5720616649"
      ]
     },
     "execution_count": 43,
     "metadata": {},
     "output_type": "execute_result"
    }
   ],
   "source": [
    "df_tdf_test['Prediction'].sum()"
   ]
  },
  {
   "cell_type": "code",
   "execution_count": 44,
   "metadata": {},
   "outputs": [
    {
     "data": {
      "text/plain": [
       "237089"
      ]
     },
     "execution_count": 44,
     "metadata": {},
     "output_type": "execute_result"
    }
   ],
   "source": [
    "df_tdf_test['Purchase Order Units'].sum()"
   ]
  },
  {
   "cell_type": "code",
   "execution_count": 45,
   "metadata": {},
   "outputs": [
    {
     "data": {
      "text/plain": [
       "Text(0.5,1,'Purchase Order Pattern')"
      ]
     },
     "execution_count": 45,
     "metadata": {},
     "output_type": "execute_result"
    },
    {
     "data": {
      "image/png": "[encoded data removed]",
      "text/plain": [
       "<matplotlib.figure.Figure at 0x20b1d134160>"
      ]
     },
     "metadata": {},
     "output_type": "display_data"
    }
   ],
   "source": [
    "#checking predictions for few SKUs\n",
    "fig,axes=plt.subplots(3,1,figsize=(30,20))\n",
    "df_tdf_test[(df_tdf_test['DC West'] == 0) & (df_tdf_test['SKU']=='SKU050')].plot(x='Date',y='Purchase Order Units',label='Purchase Order',ax=axes[0])\n",
    "df_tdf_test[(df_tdf_test['DC West'] == 0) & (df_tdf_test['SKU']=='SKU050')].plot(x='Date',y='Prediction',label='Fulfilled Order',ax=axes[0])\n",
    "df_tdf_test[(df_tdf_test['DC West'] == 0) & (df_tdf_test['SKU']=='SKU033')].plot(x='Date',y='Purchase Order Units',label='Purchase Order',ax=axes[1])\n",
    "df_tdf_test[(df_tdf_test['DC West'] == 0) & (df_tdf_test['SKU']=='SKU033')].plot(x='Date',y='Prediction',label='Fulfilled Order',ax=axes[1])\n",
    "df_tdf_test[(df_tdf_test['DC West'] == 0) & (df_tdf_test['SKU']=='SKU044')].plot(x='Date',y='Purchase Order Units',label='Purchase Order',ax=axes[2])\n",
    "df_tdf_test[(df_tdf_test['DC West'] == 0) & (df_tdf_test['SKU']=='SKU044')].plot(x='Date',y='Prediction',label='Fulfilled Order',ax=axes[2])\n",
    "axes[0].set_ylabel(\"Purchase Order Pattern\")\n",
    "axes[0].set_title(\"Purchase Order Pattern\",fontsize=20)\n"
   ]
  },
  {
   "cell_type": "code",
   "execution_count": 46,
   "metadata": {
    "collapsed": true
   },
   "outputs": [],
   "source": [
    "#Analyzing prediction and cut at SKU level\n",
    "sku = df_tdf_test.groupby(['SKU'],as_index = False)[['cut','Predicted cut','Purchase Order Units']].sum().sort_values(by = 'Purchase Order Units',ascending = False).reset_index(drop = True)"
   ]
  },
  {
   "cell_type": "code",
   "execution_count": 47,
   "metadata": {},
   "outputs": [
    {
     "data": {
      "text/plain": [
       "<matplotlib.axes._subplots.AxesSubplot at 0x20b1cd60e80>"
      ]
     },
     "execution_count": 47,
     "metadata": {},
     "output_type": "execute_result"
    },
    {
     "data": {
      "image/png": "[encoded data removed]",
      "text/plain": [
       "<matplotlib.figure.Figure at 0x20b1d111978>"
      ]
     },
     "metadata": {},
     "output_type": "display_data"
    }
   ],
   "source": [
    "#relationship between predicted cut and Purchase Order Units\n",
    "sku.plot(kind ='scatter',x = 'Purchase Order Units', y ='Predicted cut')"
   ]
  },
  {
   "cell_type": "code",
   "execution_count": 48,
   "metadata": {},
   "outputs": [
    {
     "data": {
      "text/plain": [
       "<matplotlib.axes._subplots.AxesSubplot at 0x20b1e024208>"
      ]
     },
     "execution_count": 48,
     "metadata": {},
     "output_type": "execute_result"
    },
    {
     "data": {
      "image/png": "[encoded data removed]",
      "text/plain": [
       "<matplotlib.figure.Figure at 0x20b1d340470>"
      ]
     },
     "metadata": {},
     "output_type": "display_data"
    }
   ],
   "source": [
    "sku.plot(kind ='scatter',x = 'Purchase Order Units', y ='cut')"
   ]
  },
  {
   "cell_type": "code",
   "execution_count": 49,
   "metadata": {},
   "outputs": [
    {
     "data": {
      "text/html": [
       "<div>\n",
       "<style>\n",
       "    .dataframe thead tr:only-child th {\n",
       "        text-align: right;\n",
       "    }\n",
       "\n",
       "    .dataframe thead th {\n",
       "        text-align: left;\n",
       "    }\n",
       "\n",
       "    .dataframe tbody tr th {\n",
       "        vertical-align: top;\n",
       "    }\n",
       "</style>\n",
       "<table border=\"1\" class=\"dataframe\">\n",
       "  <thead>\n",
       "    <tr style=\"text-align: right;\">\n",
       "      <th></th>\n",
       "      <th>SKU</th>\n",
       "      <th>cut</th>\n",
       "      <th>Predicted cut</th>\n",
       "      <th>Purchase Order Units</th>\n",
       "    </tr>\n",
       "  </thead>\n",
       "  <tbody>\n",
       "    <tr>\n",
       "      <th>0</th>\n",
       "      <td>SKU033</td>\n",
       "      <td>21472</td>\n",
       "      <td>15448.758734</td>\n",
       "      <td>63444</td>\n",
       "    </tr>\n",
       "    <tr>\n",
       "      <th>1</th>\n",
       "      <td>SKU002</td>\n",
       "      <td>5363</td>\n",
       "      <td>2409.278662</td>\n",
       "      <td>16535</td>\n",
       "    </tr>\n",
       "    <tr>\n",
       "      <th>2</th>\n",
       "      <td>SKU019</td>\n",
       "      <td>4669</td>\n",
       "      <td>3952.578985</td>\n",
       "      <td>13144</td>\n",
       "    </tr>\n",
       "    <tr>\n",
       "      <th>3</th>\n",
       "      <td>SKU048</td>\n",
       "      <td>5246</td>\n",
       "      <td>4400.468050</td>\n",
       "      <td>12466</td>\n",
       "    </tr>\n",
       "    <tr>\n",
       "      <th>4</th>\n",
       "      <td>SKU050</td>\n",
       "      <td>4496</td>\n",
       "      <td>3595.986587</td>\n",
       "      <td>12367</td>\n",
       "    </tr>\n",
       "  </tbody>\n",
       "</table>\n",
       "</div>"
      ],
      "text/plain": [
       "      SKU    cut  Predicted cut  Purchase Order Units\n",
       "0  SKU033  21472   15448.758734                 63444\n",
       "1  SKU002   5363    2409.278662                 16535\n",
       "2  SKU019   4669    3952.578985                 13144\n",
       "3  SKU048   5246    4400.468050                 12466\n",
       "4  SKU050   4496    3595.986587                 12367"
      ]
     },
     "execution_count": 49,
     "metadata": {},
     "output_type": "execute_result"
    }
   ],
   "source": [
    "sku.head()"
   ]
  },
  {
   "cell_type": "code",
   "execution_count": 50,
   "metadata": {
    "collapsed": true
   },
   "outputs": [],
   "source": [
    "sku['percent'] = (sku['cut'] - sku['Predicted cut'])/sku['cut']*100 #percentage reduction in cuts per SKU"
   ]
  },
  {
   "cell_type": "code",
   "execution_count": 51,
   "metadata": {
    "collapsed": true
   },
   "outputs": [],
   "source": [
    "#If prediction is greater than the purchase order units then restrict prediction to the purchase order units as that would be the units fulfilled\n",
    "df_tdf_test['Prediction'] = np.where(df_tdf_test['Prediction'] > df_tdf_test['Purchase Order Units'],df_tdf_test['Purchase Order Units'],df_tdf_test['Prediction'])"
   ]
  },
  {
   "cell_type": "code",
   "execution_count": 52,
   "metadata": {
    "collapsed": true
   },
   "outputs": [],
   "source": [
    "#fulfilling patterns with the predictions\n",
    "sku = df_tdf_test.groupby(['SKU'],as_index = False)[['Fulfilled Units','Prediction','Purchase Order Units']].sum().sort_values(by = 'Purchase Order Units',ascending = False)"
   ]
  },
  {
   "cell_type": "code",
   "execution_count": 53,
   "metadata": {},
   "outputs": [
    {
     "data": {
      "image/png": "[encoded data removed]",
      "text/plain": [
       "<matplotlib.figure.Figure at 0x20b1d3ee6a0>"
      ]
     },
     "metadata": {},
     "output_type": "display_data"
    }
   ],
   "source": [
    "#plotting the purchase order units, the prediced units and the originally fulfilled units by TDF\n",
    "fig,axes = plt.subplots(figsize= (7,7))\n",
    "sku.head(5).plot(x = 'SKU', y= ['Purchase Order Units','Fulfilled Units','Prediction'], kind='barh',ax = axes)\n",
    "plt.xlabel(\"Order Units\",fontsize = 14)\n",
    "plt.xticks(fontsize = 14)\n",
    "plt.yticks(fontsize = 14)\n",
    "plt.ylabel(\"SKU\",fontsize = 14)\n",
    "plt.legend(fontsize =14)\n",
    "plt.show()"
   ]
  }
 ],
 "metadata": {
  "kernelspec": {
   "display_name": "Python 3",
   "language": "python",
   "name": "python3"
  },
  "language_info": {
   "codemirror_mode": {
    "name": "ipython",
    "version": 3
   },
   "file_extension": ".py",
   "mimetype": "text/x-python",
   "name": "python",
   "nbconvert_exporter": "python",
   "pygments_lexer": "ipython3",
   "version": "3.6.1"
  }
 },
 "nbformat": 4,
 "nbformat_minor": 2
}
